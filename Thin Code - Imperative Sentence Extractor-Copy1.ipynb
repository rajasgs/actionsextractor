{
 "cells": [
  {
   "cell_type": "code",
   "execution_count": 1,
   "metadata": {},
   "outputs": [],
   "source": [
    "import os\n",
    "\n",
    "# I saved all PDF files under the PDF folder in my env directory\n",
    "pdf_docs_path = os.path.join(\"PDF\")\n",
    "one_pdf_path = os.path.join(pdf_docs_path,\"protect-your-home-from-severe-wind-pdf.pdf\")\n"
   ]
  },
  {
   "cell_type": "code",
   "execution_count": 2,
   "metadata": {
    "scrolled": true
   },
   "outputs": [
    {
     "name": "stdout",
     "output_type": "stream",
     "text": [
      "This file has 16 pages.\n"
     ]
    }
   ],
   "source": [
    "# Trying a better result with pdftotext\n",
    "import pdftotext\n",
    "\n",
    "with open(one_pdf_path, \"rb\") as f:\n",
    "    pdf = pdftotext.PDF(f)\n",
    "    \n",
    "print(\"This file has\", len(pdf), \"pages.\")"
   ]
  },
  {
   "cell_type": "code",
   "execution_count": 3,
   "metadata": {},
   "outputs": [],
   "source": [
    "# PDFtoText is much better than PyPDF, with automatic ligature conversion!\n",
    "# Now we can get rid of new lines and stray spaces\n",
    "\n",
    "import re\n",
    "cleanerPDF = re.sub('\\s+', ' ', pdf[2]).strip()\n"
   ]
  },
  {
   "cell_type": "code",
   "execution_count": 4,
   "metadata": {},
   "outputs": [
    {
     "name": "stdout",
     "output_type": "stream",
     "text": [
      "Protect your home from Severe wind Designed for safer living ® is a program endorsed by Canada’s insurers to promote disaster-resilient homes.\n",
      "for Catastrophic Loss Reduction The Institute for Catastrophic Loss Reduction (ICLR), established in 1997, is a world-class centre for multidisciplinary disaster prevention research and communication. ICLR is an independent, not-for-profit research institute founded by the insurance industry and affiliated with the University of Western Ontario. The Institute’s mission is to reduce the loss of life and property caused by severe weather and earthquakes through the identification and support of sustained actions that improve society’s capacity to adapt to, anticipate, mitigate, withstand and recover from natural disasters. ICLR’s mandate is to confront the alarming increase in disaster losses caused by natural disasters and to work to reduce disaster deaths, injuries and property damage. Disaster damage has been doubling every five to seven years since the 1960s, an alarming trend. The greatest tragedy is that many disaster losses are preventable. ICLR is committed to the development and communication of disaster prevention knowledge. For the individual homeowner, this translates into the identification of natural hazards that threaten them and their home. The Institute further informs individual homeowners about steps that can be taken to better protect your family and your home. The purpose of this booklet is to outline actions that homeowners can take to protect their homes from tornadoes and severe wind damage. Some of these measures are simple and free; others cost money. All contribute to reducing the risk of severe wind damage. Published by: The Institute For Catastrophic Loss Reduction Cover photos: ShutterStock. Waiver: ICLR accepts no responsibility of liability for: • any loss or damage that any person may sustain as a result of the information in, or anything done or omitted in reliance on, this pamphlet; and • any personal injury or bodily injury, including death, and any loss or damage caused by severe winds to insured or uninsured structures and /or property as a result of actions outlined in this document. ISBN: 978-0-9811792-3-0 Copyright®2012 The Institute For Catastrophic Loss Reduction\n",
      "Tornadoes appear in many shapes and sizes, but are typically in the form of violent rotating columns of air extending from a thunderstorm with a narrow end touching the ground. Most tornadoes have wind speeds of less than 170 km/h and a width of 75m across. They typically travel several kilometers before dissipating. Extreme tornadoes can easily uproot trees, flip cars and demolish houses with wind speeds of more than 480 km/h. They can stretch more than three kilometres across and travel more than 100 km. Canada experiences more tornadoes than any other country (80 on average) with the exception of the United States. Tornadoes are relatively common in certain regions in Canada, including: the British Columbia interior, southern areas of Alberta, Saskatchewan, Manitoba, Ontario and Quebec, and western New Brunswick. They can occur at any time of the year but are most prevalent from April to September with peak months in June and July. Hospitals and public Photo: Shutterstock buildings are typically “fully engineered” and perform well in high winds because of the attention given to construction connections (joints, fasteners) and load paths (the path that seismic forces pass through to the foundation of the structure). Historically, less engineering oversight has been applied to residential construction, making it especially vulnerable to severe wind damage. With population and development increasing in at-risk areas, tornado and severe wind activity has serious implications for homeowners across Canada. While homeowners cannot predict violent wind activity, they can take steps to protect themselves and minimize damage to their homes. This handbook is designed to assist homeowners who are at risk of tornadoes and severe winds. It identifies several steps homeowners can take to protect their homes from severe wind damage and provides a scorecard that can help evaluate potential vulnerability. 1\n",
      "Understand your home’s vulnerabilities While tornadoes and severe winds can easily destroy homes, most often the result is damage to the home’s roof, exterior walls and windows. It is important to be aware and educated about your home’s vulnerabilities to the threat of severe winds. 1 Talk to your local government Local government’s often offer important advice for homeowners on how to protect their home from severe winds. Municipal government websites, public works, utilities and the building department are all useful sources. Towns and cities located in severe wind regions can offer a great deal of expertise on how to protect your home. Some key questions worth asking ! What advice do they offer? ! Are there engineering studies on your subdivision? ! How do you report damage from extreme winds and storms? ! What does your local government suggest you do? ! Is there any disaster-relief assistance you can apply for? ! Do they recommend any contractors with expertise in severe wind protection? ! What permits are required to strengthen your home’s defenses? 2 Talk to your insurance agent or broker It is critical that homeowner’s talk to insurance agents and brokers to understand what types of damage are covered under their policy. Sometimes specific types of damage can be excluded depending on your policy. Insurers can also identify common sources of damage in your subdivision that you should watch out for. 3 Have a building inspector evaluate your home Because each home is different, building inspectors can offer important insights into your home’s capacity to withstand storm-force winds. Inspectors can provide important Home inspectors can information on the age of your home, and its capacity to resist help assess a home’s extreme winds. Contacting your municipality is the easiest way capacity to withstand to find a good home inspector with knowledge on your area. storm-force winds 2\n",
      "These initiatives cannot guarantee the safety and security of any home but, if addressed, will help to minimize tornado and severe wind damage. Storm-proof the roof Tornado damage is usually most significant for a home’s roof. Strong winds generate uplift as they divide and flow around a structure. The wind stream following the longest path (usually over the roof) speeds up to rejoin the stream following the shorter distance (usually around the walls). According to Bernoulli's principle, as the wind speeds up across the roof the pressure drops. This generates uplift. The roof, in effect, acts somewhat like a wing and attempts to “take off” from the remainder of the building. If the roof is old or showing signs of damage or decay, Roof sheathing must be securely fastened to prevent re-roofing can significantly wind damage. strengthen a home against strong winds. The roof cover should be removed down to the sheathing. Sheathing should be checked for any damage and replaced as needed. Choose a high-wind rated roof cover and make sure ridge and off-ridge vents are also rated for high winds. If a homeowner is not ready to High winds are a major cause of roof damage. re-roof, check vents to be sure they will stay in place and are of the proper type and strength to resist high winds and wind-driven rain. Shutter any vents before a storm strikes or replace them with products rated for resistance to 3\n",
      "wind-driven rain intrusion. If water accumulates in the attic, homeowners could soon find themselves facing problems with mildew, mold and rot. Strengthen the fastening of the roof sheathing to the roof structure and provide a secondary water barrier by having a closed cell urethane-based adhesive spray foam applied from inside your attic. Gable end roofs are more susceptible to damage from high winds than hip roofs or flat roofs because they slope in only two directions (and not four). The gable end presents a large obstacle to the wind and receives its full force. If the framing of the gable end and the rest of the Roof uplift and failure is a common source of damage roof is not adequately braced linked with high winds and tornadoes. to resist the wind, the roof can fail. Roof failures, especially in unbraced gable roofs, are a common cause of major damage to houses and their contents in high winds. A gable roof can be strengthened by installing additional braces in the trusses and/or at the gable ends. A qualified Some examples of metal hurricane straps. builder can also install galvanized metal hurricane straps. These help to secure the roof to the walls. Large gable end walls should be braced and tied into the roof and ceiling structure to keep them from being damaged during a violent storm. Entry doors If a home’s doors fail under significant pressure, they will allow wind to enter the house which can cause even more damage and possibly injure homeowners and members of their family. Doors should be pressure- and impact-rated or shuttered with a pressure- and impact- rated product. Keep at least one protected entry door operable from 4\n",
      "inside the home. Most doors do not have bolts or pins strong enough to withstand tornadoes and severe winds. Many houses are equipped with double entry doors. These doors typically consist of an “active” door (which is used when only one door is needed) and an “inactive” door (which usually remains closed but can be opened when necessary). While these doors are convenient because they span a wider opening than a single door, they are usually not as strong as a single door and are therefore more susceptible to wind damage. Double-entry doors can be reinforced by adding a heavy-duty dead bolt, slide bolts at the top and bottom of the inactive door and longer hinge attachment screws into the doors and frame. Windows and sliding glass doors Although tornadoes and severe winds can exert tremendous pressure against homes, a significant portion of property damage is not from the wind itself but from airborne materials. Items such as tree limbs and branches, signs and sign posts, roof tiles and shingles, metal siding and other pieces of buildings (including entire roofs in major storms) can easily penetrate unprotected windows and sliding doors. This wind-borne debris can cause significant damage to interior walls and ceilings not designed to withstand such forces. As well, wind penetration results in the Flying debris from severe winds can easily penetrate uncontrolled build-up of unprotected windows. internal air pressure which can weaken the structure. The easiest and most effective way to protect windows and glass doors is to install storm shutters. Building supply stores sell many kinds of storm shutters, but homeowners can also make their own shutters out of plywood. Use 5/8” marine plywood, cut to fit and ready to install. 5\n",
      "Permanently install any necessary wall-mounted hardware for removable shutters before a storm threatens. Number all shutters and keep all of the removable hardware accessible for quick installation. Porches and overhangs Porches and overhangs are obvious targets for storm-force wind damage. They protrude from homes and are typically constructed with lighter materials (wood vs. bricks). Porches and overhangs are frequently the initial points for structural damage in a violent storm. Many of the columns that support porch roofs or overhangs provide adequate support for the weight of the roof but offer little resistance to uplift forces. In a violent storm, these forces can actually be much larger than the weight of the roof it is expected to support. Make sure that the columns are adequately connected so that they hold the roof down, as well as holding it up. Garage Doors While garage doors may be the largest and weakest opening of a home, they are often forgotten when storm-proofing. If the garage door fails during a storm, the full fury of the storm may enter the home and blow off the roof and destroy the home. Homeowners should look for a sticker indicating pressure rating suitable for their location. If there is no sticker, consider three options: ! Install a garage door with one that is pressure-rated or pressure- and impact-rated. ! Install aftermarket vertical braces that are building code approved and Garage doors can be the weakest opening available at a local home of a home in a severe wind storm. improvement store. ! Check with the garage door manufacturer for a kit to strengthen the door and its track so that it has the properties found in new wind-rated doors appropriate for your location. Garage doors 6\n",
      "can be strengthened by installing horizontal bracing in each panel. Bracing kits can often be purchased from garage door manufacturers. Homeowners may also need to add stronger supports and heavier hinges for their garage doors. Ridge and off-ridge vents Faulty ridge vents can result in significant water intrusion in high winds. Driven by storm-force winds, water can enter homes through usually rain-tight openings and completely devastate a home's interior and contents. Ridge vents should be rated for water intrusion resistance. Given that they are the last item installed, ridge vents can be easily replaced. Look for a baffle or trip that keeps water from being pushed up into the vent so that the rain is pulled away. The vent should be adequately fastened to the roof deck. Consider replacing any off-ridge vents that are not rated for high-wind applications and wind-driven rain resistance. Consult a reputable roofer in such cases. Soffits During a storm, the eaves of a home can expose the structure to the ravages of wind-driven rain on two fronts. The most obvious danger comes when soffits are blown out during a storm. Water intrusion can also occur when strong winds drive water through vented soffits. Homeowners should check the condition of their soffit covers (the plastic or aluminum cover underneath the roof edge in between the eave and wall). If the soffit is damaged, it should be replaced. Replace corroded During a storm, the eaves of a home material covers. Check the can expose the structure to the ravages of wind-driven rain. attachment to the wall and eaves. Panels 12 inches or longer perpendicular to the wall should have a wood support near the middle of the panel. To help anchor the soffits of a home, apply a bead of polyurethane sealant between the 7\n",
      "wall and the trim into which the soffit panels are inserted. A homeowner can also apply a dollop of caulk in the V-shaped hole where the joint between two soffit panels meets the trim. Outdoor objects Loose items can become a fire hazard when they accumulate near a home. They can also pose a significant danger around a home if picked up by high winds during a violent storm. Be sure to trim any trees and shrubs around the home. Remove any dead or rotted trees, branches, or bushes, as well as other debris from around the yard. Turn off propane tanks. Make sure all items in the yard (e.g., storage sheds, lawn furniture, garbage cans and grills) are secure and heavy enough to stay put under normal conditions. Never leave a patio umbrella up when not in use as it can easily be picked up by the wind and turned into a missile. Consider replacing gravel or rock landscaping materials with shredded bark. Store vehicles in a garage or other enclosure. Moor boats securely. If the boat is ashore on a jack stand, strap the boat down where possible. If there is a pool on the property, cover the pump filter. 8\n",
      "and severe wind protection plan A C A I F F A G A E B D H A Make sure exterior cladding (siding F Purchase shutters to protect windows and roofing) is rated for severe winds. from airborne debris. B Securely anchor any outdoor G Make sure connections between accessories. For example, air columns and porches or overhangs conditioners or utility sheds. are adequately secured. C If you have a gable roof, check to see H Check your garage door to see if it is if it is properly braced. pressure rated. D Doors should be pressure and impact I Ridge vents and soffits should be rated. tightly connected to the roof to prevent water leakage. E If you have a double door, install a heavy-duty bolt, or slide bolts at the top and bottom of the inactive door. 9\n",
      "of severe wind damage Assign yourself the indicated number of points for each question. The fewer the points you score, the more protected your family and property are against severe wind damage. If a question does not apply to your home, assign a score of 0. General Number of stories One 0 Two or more 20 Exterior cladding (siding, roofing) Yes 0 rated for severe winds No 3 Storage for outdoor items Yes 0 (trampoline, playground equipment, No 2 gazebo, tables, etc.) Outdoor accessories are securely Yes 0 anchored (air conditioning, satellite No 2 dishes, hot water tanks, etc.) Roof, overhangs and attachments Roof design Hip 0 Gable 10 Complex (dormers, etc.) 20 Roof to wall connection Single or double straps 0 Clips 10 Toe nails 20 5/8-inch plywood roof decking Yes 0 No 5 Roof deck attachment Extensive (nails, screws) 0 Minimum (staples) 5 Secondary water resistance Extensive 0 (roof membrane and sealed seams) Minimum 5 Porch, patio and carport anchored Yes 0 for wind loads No 5 Columns anchored to the Yes 0 foundation and roof beam No 5 Windows and doors Opening protection Tornado or (impact-resistant storm shutters, hurricane strength 0 panels, screens, or combined Basic 10 window-door units) None 20 10\n",
      "Height is six feet or less Yes 0 No 10 Garage door is pressure-rated Yes 0 or reinforced No 5 Proper locks and hinges are on Yes 0 double-entry doors to resist No 5 wind pressure Walls Wood frame construction Bottom plates are anchored Extensive 0 to the foundation Minimum 5 (connectors, structural sheathing, load-specific nailing) Upper story is anchored Yes 0 to the lower story No 5 No windows or doors are near Yes 0 corners of the house No 2 Masonry construction Rebar connects the foundation Yes 0 to wall (four-foot spacing) No 5 Rebar reinforcement is the Yes 0 full height of walls No 5 Vertical rebar reinforcement Yes 0 is at the corners and both sides No 3 of windows and doors Other building systems Engineered for high winds Yes 0 No 5 My total Risk Score is ! Low 21 or less, Moderate 21 to 29, High 30 to 35, Extreme, 35 or more Notes 11\n",
      "Description Location Start date Completed \" Repair \" Upgrade \" Replace $ Budgeted Actual cost Description Location Start date Completed \" Repair \" Upgrade \" Replace $ Budgeted Actual cost Description Location Start date Completed \" Repair \" Upgrade \" Replace $ Budgeted Actual cost Description Location Start date Completed \" Repair \" Upgrade \" Replace $ Budgeted Actual cost Important questions 12\n",
      "Insurance company Address Poastal code Telephone Alternative telephone E-mail Website Contact person Contact person Insurance broker or agent Address Poastal code Telephone Alternative telephone E-mail Wesite Contact person Contact person Municipal government Address Poastal code Telephone Alternative telephone E-mail Website Contact person Contact person Contractor Address Poastal code Telephone Alternative telephone E-mail Website Contact person Contact person 13\n",
      "Institute for Catastrophic Loss Reduction Institut de Prévention des Sinistres Catastrophiques Toronto office London office 20 Richmond Street East Boundary Layer Wind Tunnel Laboratory Suite 210 University of Western Ontario Toronto, Ontario, Canada London, Ontario, Canada M5C 2R9 N6A 5B9 416-364-8677 519-661-3234 416-364-5889 519-661-4273 info@iclr.org www.iclr.org Designed for safer living® Designed for safer living® Part of the FireSmart Protect your home from Protection Plan Protect your home from Wildfire Earthquakes Designed for safer living is a program endorsed ® Designed for safer living ¤ is a program endorsed by Canada’s insurers to promote disaster-resilient homes. by Canada’s insurers to promote disaster-resilient homes.    Designed for safer living® Designed for safer living® Protect your home from Protect your home from Snow & ice storms Basement flooding Designed for safer living ¤ is a program endorsed Designed for safer living ® is a program endorsed by Canada’s insurers to promote disaster-resilient homes. by Canada’s insurers to promote disaster-resilient homes. With Federal funding support through Natural Resources Canada's Climate Change Impacts and Adaptation Program.\n"
     ]
    }
   ],
   "source": [
    "# Now we could try and assemble one string\n",
    "for page in pdf:\n",
    "    print (re.sub('\\s+', ' ', page).strip())"
   ]
  },
  {
   "cell_type": "code",
   "execution_count": 5,
   "metadata": {},
   "outputs": [],
   "source": [
    "docText = \"\"\n",
    "for page in pdf:\n",
    "    docText = docText + re.sub('\\s+', ' ', page).strip()"
   ]
  },
  {
   "cell_type": "code",
   "execution_count": 6,
   "metadata": {},
   "outputs": [],
   "source": [
    "import pandas as pd\n",
    "import nltk\n",
    "from nltk.tokenize import word_tokenize, sent_tokenize\n",
    "\n",
    "df = pd.DataFrame(columns=['Imperative Sentences'])\n",
    "\n",
    "impSents = list()\n",
    "docSent = sent_tokenize(docText)\n",
    "for sentence in docSent:\n",
    "    text = word_tokenize(sentence)\n",
    "    extractPOS = nltk.pos_tag(text)\n",
    "    # Verb, base or gerund tense\n",
    "    if extractPOS[0][1] == 'VB' or extractPOS[0][1] == 'VBG':\n",
    "        impSents.append(sentence)\n",
    "\n",
    "# Populate the freaking dataframe        \n",
    "df['Imperative Sentences']=impSents"
   ]
  },
  {
   "cell_type": "code",
   "execution_count": 7,
   "metadata": {
    "scrolled": true
   },
   "outputs": [
    {
     "data": {
      "text/html": [
       "<div>\n",
       "<style scoped>\n",
       "    .dataframe tbody tr th:only-of-type {\n",
       "        vertical-align: middle;\n",
       "    }\n",
       "\n",
       "    .dataframe tbody tr th {\n",
       "        vertical-align: top;\n",
       "    }\n",
       "\n",
       "    .dataframe thead th {\n",
       "        text-align: right;\n",
       "    }\n",
       "</style>\n",
       "<table border=\"1\" class=\"dataframe\">\n",
       "  <thead>\n",
       "    <tr style=\"text-align: right;\">\n",
       "      <th></th>\n",
       "      <th>Imperative Sentences</th>\n",
       "    </tr>\n",
       "  </thead>\n",
       "  <tbody>\n",
       "    <tr>\n",
       "      <td>0</td>\n",
       "      <td>Protect your home from Severe wind Designed fo...</td>\n",
       "    </tr>\n",
       "    <tr>\n",
       "      <td>1</td>\n",
       "      <td>Contacting your municipality is the easiest wa...</td>\n",
       "    </tr>\n",
       "    <tr>\n",
       "      <td>2</td>\n",
       "      <td>According to Bernoulli's principle, as the win...</td>\n",
       "    </tr>\n",
       "    <tr>\n",
       "      <td>3</td>\n",
       "      <td>strengthen a home against strong winds.</td>\n",
       "    </tr>\n",
       "    <tr>\n",
       "      <td>4</td>\n",
       "      <td>Sheathing should be checked for any damage and...</td>\n",
       "    </tr>\n",
       "    <tr>\n",
       "      <td>5</td>\n",
       "      <td>Choose a high-wind rated roof cover and make s...</td>\n",
       "    </tr>\n",
       "    <tr>\n",
       "      <td>6</td>\n",
       "      <td>Keep at least one protected entry door operabl...</td>\n",
       "    </tr>\n",
       "    <tr>\n",
       "      <td>7</td>\n",
       "      <td>Install a garage door with one that is pressur...</td>\n",
       "    </tr>\n",
       "    <tr>\n",
       "      <td>8</td>\n",
       "      <td>Bracing kits can often be purchased from garag...</td>\n",
       "    </tr>\n",
       "    <tr>\n",
       "      <td>9</td>\n",
       "      <td>Consider replacing any off-ridge vents that ar...</td>\n",
       "    </tr>\n",
       "    <tr>\n",
       "      <td>10</td>\n",
       "      <td>Check the can expose the structure to the rava...</td>\n",
       "    </tr>\n",
       "    <tr>\n",
       "      <td>11</td>\n",
       "      <td>Be sure to trim any trees and shrubs around th...</td>\n",
       "    </tr>\n",
       "    <tr>\n",
       "      <td>12</td>\n",
       "      <td>Remove any dead or rotted trees, branches, or ...</td>\n",
       "    </tr>\n",
       "    <tr>\n",
       "      <td>13</td>\n",
       "      <td>Consider replacing gravel or rock landscaping ...</td>\n",
       "    </tr>\n",
       "  </tbody>\n",
       "</table>\n",
       "</div>"
      ],
      "text/plain": [
       "                                 Imperative Sentences\n",
       "0   Protect your home from Severe wind Designed fo...\n",
       "1   Contacting your municipality is the easiest wa...\n",
       "2   According to Bernoulli's principle, as the win...\n",
       "3             strengthen a home against strong winds.\n",
       "4   Sheathing should be checked for any damage and...\n",
       "5   Choose a high-wind rated roof cover and make s...\n",
       "6   Keep at least one protected entry door operabl...\n",
       "7   Install a garage door with one that is pressur...\n",
       "8   Bracing kits can often be purchased from garag...\n",
       "9   Consider replacing any off-ridge vents that ar...\n",
       "10  Check the can expose the structure to the rava...\n",
       "11  Be sure to trim any trees and shrubs around th...\n",
       "12  Remove any dead or rotted trees, branches, or ...\n",
       "13  Consider replacing gravel or rock landscaping ..."
      ]
     },
     "execution_count": 7,
     "metadata": {},
     "output_type": "execute_result"
    }
   ],
   "source": [
    "df"
   ]
  },
  {
   "cell_type": "code",
   "execution_count": 8,
   "metadata": {},
   "outputs": [
    {
     "data": {
      "text/plain": [
       "[('With', 'IN'),\n",
       " ('Federal', 'NNP'),\n",
       " ('funding', 'NN'),\n",
       " ('support', 'NN'),\n",
       " ('through', 'IN'),\n",
       " ('Natural', 'NNP'),\n",
       " ('Resources', 'NNPS'),\n",
       " ('Canada', 'NNP'),\n",
       " (\"'s\", 'POS'),\n",
       " ('Climate', 'NNP'),\n",
       " ('Change', 'NNP'),\n",
       " ('Impacts', 'NNP'),\n",
       " ('and', 'CC'),\n",
       " ('Adaptation', 'NNP'),\n",
       " ('Program', 'NNP'),\n",
       " ('.', '.')]"
      ]
     },
     "execution_count": 8,
     "metadata": {},
     "output_type": "execute_result"
    }
   ],
   "source": [
    "extractPOS"
   ]
  }
 ],
 "metadata": {
  "kernelspec": {
   "display_name": "Python 3",
   "language": "python",
   "name": "python3"
  },
  "language_info": {
   "codemirror_mode": {
    "name": "ipython",
    "version": 3
   },
   "file_extension": ".py",
   "mimetype": "text/x-python",
   "name": "python",
   "nbconvert_exporter": "python",
   "pygments_lexer": "ipython3",
   "version": "3.7.1"
  }
 },
 "nbformat": 4,
 "nbformat_minor": 2
}
