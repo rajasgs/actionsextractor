{
 "cells": [
  {
   "cell_type": "code",
   "execution_count": 1,
   "metadata": {},
   "outputs": [],
   "source": [
    "import os\n",
    "\n",
    "# I saved all PDF files under the PDF folder in my env directory\n",
    "pdf_docs_path = os.path.join(\"PDF\")\n",
    "one_pdf_path = os.path.join(pdf_docs_path,\"protect-your-home-from-snow-ice-storms.pdf\")\n"
   ]
  },
  {
   "cell_type": "code",
   "execution_count": 2,
   "metadata": {
    "scrolled": true
   },
   "outputs": [
    {
     "name": "stdout",
     "output_type": "stream",
     "text": [
      "This file has 16 pages.\n"
     ]
    }
   ],
   "source": [
    "# Trying a better result with pdftotext\n",
    "import pdftotext\n",
    "\n",
    "with open(one_pdf_path, \"rb\") as f:\n",
    "    pdf = pdftotext.PDF(f)\n",
    "    \n",
    "print(\"This file has\", len(pdf), \"pages.\")"
   ]
  },
  {
   "cell_type": "code",
   "execution_count": 3,
   "metadata": {},
   "outputs": [
    {
     "data": {
      "text/plain": [
       "'For homeowners, in particular, cold temperatures, heavy snowfall\\nand ice build-ups represent potentially significant sources of property\\ndamage.'"
      ]
     },
     "execution_count": 3,
     "metadata": {},
     "output_type": "execute_result"
    }
   ],
   "source": [
    "import nltk\n",
    "from nltk.tokenize import sent_tokenize\n",
    "\n",
    "sent = sent_tokenize(pdf[2])\n",
    "sent[1]"
   ]
  },
  {
   "cell_type": "code",
   "execution_count": 4,
   "metadata": {},
   "outputs": [],
   "source": [
    "# PDFtoText is much better than PyPDF, with automatic ligature conversion!\n",
    "# Now we can get rid of new lines and stray spaces\n",
    "\n",
    "import re\n",
    "cleanerPDF = re.sub('\\s+', ' ', pdf[2]).strip()\n"
   ]
  },
  {
   "cell_type": "code",
   "execution_count": 5,
   "metadata": {},
   "outputs": [
    {
     "name": "stdout",
     "output_type": "stream",
     "text": [
      "Protect your home from Snow & ice storms Designed for safer living ® is a program endorsed by Canada’s insurers to promote disaster-resilient homes.\n",
      "for Catastrophic Loss Reduction The Institute for Catastrophic Loss Reduction (ICLR), established in 1997, is a world-class centre for multidisciplinary disaster prevention research and communication. ICLR is an independent, not-for-profit research institute founded by the insurance industry and affiliated with the University of Western Ontario. The Institute’s mission is to reduce the loss of life and property caused by severe weather and earthquakes through the identification and support of sustained actions that improve society’s capacity to adapt to, anticipate, mitigate, withstand and recover from natural disasters. ICLR’s mandate is to confront the alarming increase in disaster losses caused by natural disasters and to work to reduce disaster deaths, injuries and property damage. Disaster damage has been doubling every five to seven years since the 1960s, an alarming trend. The greatest tragedy is that many disaster losses are preventable. ICLR is committed to the development and communication of disaster prevention knowledge. For the individual homeowner, this translates into the identification of natural hazards that threaten them and their home. The Institute further informs individual homeowners about steps that can be taken to better protect your family and your home. The purpose of this handbook is to outline actions that homeowners can take to protect their homes from extreme winter weather. Some of these measures are simple and free; others cost money. All contribute to reducing the risk to homeowners from winter weather. Published by: The Institute For Catastrophic Loss Reduction Cover photos: Superstock, Corbus Images. Waiver: ICLR accepts no responsibility of liability for: • any loss or damage that any person may sustain as a result of the information in, or anything done or omitted in reliance on, this pamphlet; and • any personal injury or bodily injury, including death, and any loss or damage caused by extreme winter weather to insured or uninsured structures and/or property as a result of actions outlined in this document. ISBN: 978-0-9811792-2-3 Copyright®2012 The Institute For Catastrophic Loss Reduction\n",
      "for homeowners Winter weather represents a significant challenge for all Canadians. For homeowners, in particular, cold temperatures, heavy snowfall and ice build-ups represent potentially significant sources of property damage. Frozen pipes, water leaks, and roof damage can easily occur without adequate preparation for winter weather. Canada experiences some of the most extreme winter weather in the world. This weather usually occurs in one of two forms that Canadians are quite used to: winter storms and extreme cold. The 1998 Ontario and Quebec ice-storm, for example, represents one of the most expensive natural disasters in Canadian history costing over $5.4 billion to recover from its damage. A thick layer of freezing rain coated hydro towers, electricity and telephone lines leaving over 4 million people in Ontario, Quebec and New Brunswick without power. All areas of Canada have also experienced temperatures below -40 C (except for Prince Edward Island). During “cold snaps” when the temperature drops for sustained periods of time, homeowners battle frozen pipes, which can lead to ruptures and significant water damage. Most research on preparing for winter weather focuses on taking precaution while driving, or how to dress to keep warm during extreme cold, but does not inform homeowners on how to minimize damage from such weather. This handbook is designed to address this gap. It identifies several steps homeowners can take to protect their homes from extreme winter weather and provides a scorecard that can help evaluate potential vulnerability. 1\n",
      "Understand your home’s vulnerabilities Roof collapse, roof or ice dams, and frozen pipes are the major threats to homeowners during periods of extreme winter weather. It is important to be aware and educated about your home’s vulnerabilities to these threats. 1 Talk to your local government Local governments often offer important advice for homeowners on how to protect their home from winter weather. Municipal government websites, public works, utilities and the building department are all useful sources. Towns and cities located in “snow belt” regions, which traditionally receive significant amounts of snowfall, will be able offer a great deal of expertise on how to protect your home. ! What advice do they offer? ! How do you report damage from extreme winter weather? ! What does your local government suggest you do? ! Is there any disaster-relief assistance you can apply for? ! Do they recommend contractors with expertise in winter-weather protection? ! What permits, if any, are required to strengthen your home’s defenses? 2 Talk to your insurance agent or broker It is critical that homeowners talk to insurance agents and brokers to understand what types of damage is covered under their policy. Sometimes specific types of damage can be excluded depending on your policy or the municipality where you live. Insurers can also identify common sources of damage in your subdivision that you should watch out for. 3 Have a building inspector evaluate your home Because each home is different, building inspectors can offer important insights into your home’s capacity to withstand winter weather. Inspectors can provide important information on the age of your home (ie. the interior plumbing), and your roof’s capacity to handle heavy snow loads. Contacting your municipality is one way to find a good home inspector with knowledge on your area. 2\n",
      "These actions will not guarantee the safety of your home, but can help minimize and prevent winter weather damage. Protecting Your Home Full or partial roof collapse, ice dams and frozen pipes are the major threats that homeowner’s should be aware of during periods of extreme winter weather. Heavy snowfall and ice build up can threaten your roof’s structural integrity, but also lead to water damage as snow or ice melts and seeps into your home. Extreme cold snaps can freeze pipes, which can cause significant water damage if the pipe bursts. Roof collapse can occur after a significant snowfall, freezing rain, or a series of intermittent snow or ice events throughout the winter season. The first step in preventing roof collapse is to determine whether your roof is susceptible to significant snow or ice accumulation. Your roof’s slope is the most important factor in helping shed snow or melting water. The lower the slope, the more exposed your roof is towards heavy snow and ice build-up. Photo: Bill Jarvis, 2011. According to most builders, a “4 on 12” roof with a slope that is greater than 10cm (vertically) in Roof collapse can be a stressful and expensive 30cm (horizontally) will experience for homeowners.. shed most snow and ice. But even with a sloped roof, snow and ice can still build up on flatter areas of the roof. Obstructions, such as chimneys, skylights or dormers, are particularly susceptible to snow build-up. 3\n",
      "Snow can collect behind roof obstructions, such as the ones pictured above. These include vents, chimneys or gables In the aftermath of significant snow or ice event, there are several important indicators a homeowner can use to determine if a sloped roof is under structural stress from snow or ice. The Canadian Mortgage and Housing Corporation (CMHC) recommends that homeowners check for 1: ! New water leaks inside the house originating from the roof or attic area. ! New internal door jams. If doors become difficult to open, it could be a result of additional snow or ice loads on the roof. ! New cracks in the drywall or plaster could also result from additional snow load or ice weight in the centre of the house. ! On sloped roofs, sagging on the ridge-line (where the two sides of the roof meet) could be an indication of a potential roof collapse. If you see any of these above indicators it is important that you immediately take action to reduce the snow or ice load from the roof. There are several actions a homeowner can take. For snow, the safest approach is to contact a snow removal contractor. But a long snow- rake with an extendable arm can also be purchased if you can access areas of the roof with significant snow accumulation from the ground. Removing ice build-up represents a more significant challenge for homeowners. Homeowners can choose to drain, or physically remove ice that has formed on the roof. For a sloped roof, drainage can significantly reduce the impact of potential ice damage. 1 CMHC 2010. Removing Ice on Roofs. Canadian Mortgage and Housing Corporation. 4 http://www.cmhc-schl.gc.ca/en/co/maho/gemare/gemare_006.cfm\n",
      "The first step is to carefully remove any loose snow that covers the ice. Once the ice is exposed, you can take advantage of the sloped roof by trying to make drainage paths so that the ice can melt and run off the roof. ! Electric Heating Cables offer the easiest approach to removing ice. Installing heating cables can be difficult depending on the design of your roof. It is often advisable to call a professional contractor with experience in installing heating cables for advice. ! Chemical de-icers can also be used to improve drainage. The easiest approach is to make a hole in the ice approximately every three feet that exposes the roof surface. De-icer can be placed in each hole and then in a line towards the edge of the roof. Manual ice-removal should be a last-resort option for homeowners. This process is extremely dangerous and should be done by a professional. Ice dams Ice dams represent one of the most common sources of roof damage for Canadians. An ice dam is a ridge of ice that develops at the edge of your roof or around drains that prevents snow or water from melting off your roof. Heat escaping from the interior of your house in Reprinted with permission ©2006 Building Science Corporation - www.buildingscience.com Ice dams form when heat escapes from your attic or the interior of your home and melts snow on your roof. combination with poor attic air circulation is the primary cause of ice dams. As snow hits your roof it can melt in the areas where heat is escaping. Water will run down the roof towards the edges where it can come in contact with the colder eave and freeze. As the ice forms, water trying to drain down the roof will build up behind the “dam” 5\n",
      "and potentially leak into walls, ceilings or your attic. This water may cause rot in the roof that leads to collapse. In addition, the “dam” also limits snow from falling off your roof, which can add to existing snowloads and put pressure on the structure of your home. Prevention remains the most effective strategy for stopping ice dams. Homeowners can take several steps to prevent heat from escaping your attic or the interior of your house. ! Look for any attic penetrations such as attic doors, plumbing stacks, electrical service penetrations, or chimneys that allow heat to escape from inside your house into the attic. ! Identify and remove any heat source in your attic that will heat areas on your roof. www.buildingscience.com ! Incandescent light fixtures in the Incandescent light fixtures in the ceiling below ceiling below the attic can often the attic can often generate enough heat to generate enough heat to melt melt snow on a roof. snow on a roof. These fixtures should be insulated to prevent any heat loss. Homeowners can check for proper insulation by looking for any light from the fixture in the attic. ! Look for any form of penetration between your attic and roof, such as a vent. If you can see sunlight from the outside, the vent will need to be sealed or insulated. Re-roofing also offers another opportunity to prevent ice dams. During installation homeowners can install a secondary moisture or snow and ice barrier to prevent heat loss. To make sure the barrier is effective homeowners should consider using www.buildingscience.com two layers of underlayment that are cemented together. Snow and ice shield. 6\n",
      "Also, make sure underlayment is installed in roof valleys where snow and ice can collect during the winter. There are also a series of less costly steps a homeowner can take if ice dams are a continuing problem. Increasing the insulation above your ceilings can help prevent heat from escaping into your attic or through your roof. For suspended ceilings, fibre glass batt insulation can be installed to prevent heat loss. For drywall ceilings that are nailed directly to the joists, blown insulation in addition to fibre glass insulation can be effective. Roof maintenance is also a key Fibre glass insulation can significantly reduce measure homeowners can take to heat loss from your home. prevent ice dams. It is important to make sure that roof drainage systems, such as scuppers, gutters and down spouts are free of debris and working properly. Blockages can prevent water from draining. Overhanging trees or vegetation should be cut back to prevent debris from landing on your roof and clogging these drains. For some homes, especially those with aging drainage systems that are surrounded by trees, this type of preventative maintenance may still not stop ice dams. In this case, a heating cable installed on the gutter or downspout may be necessary. Blocked gutters can stop water from draining from your roof and cause ice dams. 7\n",
      "Frozen Pipes Frozen pipes are one of the most significant sources of damage for homeowners linked with winter weather. When a pipe freezes, water Photo: Corbus Images. When pipes freeze, they can burst and generate significant water damage. can back up behind the blockage and cause a rupture leading to significant property damage. Homeowners can take a number of steps before winter arrives to prepare their plumbing system for a drop in temperature. ! Make sure insulation is installed on any exposed pipe, specifically those in a closet of an attic. Heat tape or heat cables are two options homeowners can explore for insulated exposed pipes. ! Identify and seal any leaks that expose pipes to cold air. Attics often hold cold air that can seep into the house and lower temperatures. It is important to insulate any attic penetration, such as a partition wall, vent, plumbing stack, electric or mechanical chases. Access doors into the attic must also be property sealed to protect a home from cold air in the attic. Homeowners should make sure that all wall cracks or penetrations are sealed, particularly around domestic and fire protection lines and electrical conduits. ! Disconnect garden hoses and shut the indoor valves that control water flow to the outside of the house. Drain the pipe between the indoor valve and the outdoor faucet.Despite these precautionary steps, extreme drops in the temperature can still cause pipes to freeze. Simple steps to protect your home during these cold snaps include: 8\n",
      "! Paying attention to local weather forecasts that predict extreme cold weather. Opening your taps to allow a drip of water to keep water moving. This is really important for pipes in exterior walls that are more exposed to cooler temperatures. ! Maintaining a consistent thermostat temperature during the day and at night. Turning down the thermostat at night, for example, can expose some pipes to extremely low temperatures. ! Pipes under sinks or appliances are usually not insulated, so opening kitchen and sink cabinets can open access to warmer air circulating throughout the house. ! Keep the garage door closed. Sometimes water pipes can run through the garage if it is attached to the home. An open door can expose these pipes to extremely low temperatures. If you are leaving your home for any extended period of time during the winter, homeowners can help prevent frozen pipes upon their return in a number of ways. ! Make sure the thermostat is set no lower than 12C (54F). ! Ask a neighbour to check on the house at least every other day to make sure the temperature is not too low. ! Before you leave, drain your water system. It is important that during cold snaps Power outages are one of the more common that the temperature is not set any lower than 12 Celcius. causes of frozen pipes. Without power, the water supply may also shut off. If you do not flush water out of the pipes it can easily freeze. During the 1998 Montreal Ice Storm, for example, power outages led to significant damage in many homes from frozen pipes. ! If water is no longer coming into your home, turn off the main water valve coming into your home. Open all taps to clear the remaining water in the pipes. ! Homeowners should ensure that they can access a back-up power supply, such as a stand-by generator. 9\n",
      "! Central monitoring companies can also be hired to provide notification in the event the interior temperature of the home gets too low. ! If your home uses a sprinkler system, make sure that it is monitored by a central station in case a rupture occurs due to freezing temperatures. Repair or upgrade to-do-list Description Location Start date Completed \" Repair \" Upgrade \" Replace $ Budgeted Actual cost Description Location Start date Completed \" Repair \" Upgrade \" Replace $ Budgeted Actual cost Description Location Start date Completed \" Repair \" Upgrade \" Replace $ Budgeted Actual cost 10\n",
      "and ice storm protection plan A B B D C A C F E C G H A Determine if the slope of your E Make sure gutters are clean from roof is susceptible to snow and ice debris and properly drain. build up (the flatter the roof, the F Cut back any overhanging vegetation more at risk). that could contribute debris to roof B Snow can collect behind roof drainage systems. obstructions and put stress on roof G Make sure to seal any exterior air leak structure. that could expose interior piping to C Examine roof edges for evidence cold air. of ice damming. H Disconnect garden hoses and shut D Explore inside your attic for any indoor valves that control water flow penetrations that could leak warm to the outside of the house. Drain the air into the attic. Also check to pipes between indoor valve and see that there are no big gaps in outdoor faucet. the insulation. 11\n",
      "of winter weather damage Assign your home the indicated number of points for each question. The fewer the points you get, the more prepared your property is to prevent winter weather damage. If a question does not apply to your home, write down a score of 0. Has your home ever been Yes 25 damaged by winter weather? Don’t know 5 (roof leaks, full or partial roof No 0 collapse, wall cracks, sagging ridge line, frozen pipes) Is the slope of your roof Yes 0 sufficient to shed snow and Don’t know 0 ice? (more than 10 cm No 10 vertically in 30 cm horizontally) Does your roof have Yes 10 significant obstructions No 0 (chimneys, skylights, dormers) where snow and ice can collect? Have you cleaned debris from Yes 0 your roof drainage systems No 15 (scuppers, gutters and downspouts)? Is there any vegetation that Yes 10 overhangs your roof and No 0 contributes to blockages in roof drainage systems? Do you own electric heating Yes 0 cables, or a chemical de-icer? No 5 Have you inspected your attic for heat sources? • Attic access doors Yes 0 No 5 12\n",
      "• Light fixtures without Yes 0 insulation No 5 Do you have any un-insulated Yes 15 pipes exposed to cold air? No 0 Do you have any leaks or Yes 15 penetrations in the attic that No 0 allow cold air into your home? During severe cold snaps do you… • Open your taps to keep Yes 0 water moving? No 5 • Maintain a constant Yes 0 thermostat temperature No 5 during the night and day? • Open your kitchen and sink Yes 0 cabinets to warmer air? No 5 • Keep your garage Yes 0 door closed? No 5 Before leaving your house for an extended period of time during cold weather do you…: • Keep the thermostat set Yes 0 to no lower than 12 C? No 5 • Make sure a neighbour Yes 0 checks to see your house No 5 temperature is not too low? • Drain your water system Yes 0 by opening the taps? No 10 My total Risk Score is ! Low 21 or less, Moderate 21 to 29, High 30 to 35, Extreme, 35 or more Notes 13\n",
      "Institute for Catastrophic Loss Reduction Institut de Prévention des Sinistres Catastrophiques Toronto office London office 20 Richmond Street East Boundry Layer Wind Tunnel Laboratory Suite 210 University of Western Ontario Toronto, Ontario, Canada London, Ontario, Canada M5C 2R9 N6A 5B9 416-364-8677 519-661-3234 416-364-5889 519-661-4273 info@iclr.org www.iclr.org Designed for safer living® Designed for safer living® Part of the FireSmart Protect your home from Protect your home from Protection Plan Basement flooding Wildfire Designed for safer living ® is a program endorsed Designed for safer living ® is a program by Canada’s insurers to promote disaster-resilient homes. endorsed by Canada’s insurers to promote disaster-resilient homes. Designed for safer living® Designed for safer living® Protect your home from Protect your home from Earthquakes Severe wind Designed for safer living ¤ is a program endorsed Designed for safer living ® is a program endorsed by Canada’s insurers to promote disaster-resilient homes. by Canada’s insurers to promote disaster-resilient homes. With Federal funding support through Natural Resources Canada's Climate Change Impacts and Adaptation Program.\n"
     ]
    }
   ],
   "source": [
    "# Now we could try and assemble one string\n",
    "for page in pdf:\n",
    "    print (re.sub('\\s+', ' ', page).strip())"
   ]
  },
  {
   "cell_type": "code",
   "execution_count": 6,
   "metadata": {},
   "outputs": [],
   "source": [
    "docText = \"\"\n",
    "for page in pdf:\n",
    "    docText = docText + re.sub('\\s+', ' ', page).strip()"
   ]
  },
  {
   "cell_type": "code",
   "execution_count": 7,
   "metadata": {},
   "outputs": [],
   "source": [
    "import nltk\n",
    "from nltk.probability import FreqDist\n",
    "\n",
    "tokens = nltk.tokenize.word_tokenize(docText)\n",
    "fdist=FreqDist(tokens)"
   ]
  },
  {
   "cell_type": "code",
   "execution_count": 8,
   "metadata": {},
   "outputs": [
    {
     "data": {
      "text/plain": [
       "FreqDist({'.': 168, 'the': 139, ',': 115, 'to': 112, 'your': 75, 'and': 75, 'of': 75, 'a': 64, 'can': 64, 'roof': 58, ...})"
      ]
     },
     "execution_count": 8,
     "metadata": {},
     "output_type": "execute_result"
    }
   ],
   "source": [
    "fdist"
   ]
  },
  {
   "cell_type": "code",
   "execution_count": 9,
   "metadata": {},
   "outputs": [],
   "source": [
    "# Stop words need to be filtered out, otherwise we get the stupid result above.\n",
    "from nltk.corpus import stopwords\n",
    "\n",
    "stop_words=set(stopwords.words(\"english\"))"
   ]
  },
  {
   "cell_type": "code",
   "execution_count": 10,
   "metadata": {},
   "outputs": [],
   "source": [
    "filtered_tokens=[]\n",
    "for w in tokens:\n",
    "    if w not in stop_words:\n",
    "        filtered_tokens.append(w)\n",
    "fdist=FreqDist(filtered_tokens)"
   ]
  },
  {
   "cell_type": "code",
   "execution_count": 11,
   "metadata": {},
   "outputs": [
    {
     "data": {
      "text/plain": [
       "FreqDist({'.': 168, ',': 115, 'roof': 58, 'ice': 42, 'home': 34, '!': 31, 'snow': 30, 'water': 26, 'weather': 24, 'damage': 24, ...})"
      ]
     },
     "execution_count": 11,
     "metadata": {},
     "output_type": "execute_result"
    }
   ],
   "source": [
    "fdist"
   ]
  },
  {
   "cell_type": "code",
   "execution_count": 12,
   "metadata": {},
   "outputs": [],
   "source": [
    "temp = list(stop_words)"
   ]
  },
  {
   "cell_type": "code",
   "execution_count": 13,
   "metadata": {},
   "outputs": [],
   "source": [
    "temp.append(\".\")\n",
    "temp.append(\",\")\n",
    "temp.append(\"The\")\n",
    "temp.append(\"’\")\n",
    "temp.append(\"(\")\n",
    "temp.append(\")\")\n",
    "temp.append(\"–\")\n",
    "stop_words = tuple(temp)"
   ]
  },
  {
   "cell_type": "code",
   "execution_count": 21,
   "metadata": {},
   "outputs": [
    {
     "data": {
      "text/plain": [
       "FreqDist({'roof': 58, 'ice': 42, 'home': 34, '!': 31, 'snow': 30, 'water': 26, 'weather': 24, 'damage': 24, 'winter': 22, 'pipes': 22, ...})"
      ]
     },
     "execution_count": 21,
     "metadata": {},
     "output_type": "execute_result"
    }
   ],
   "source": [
    "filtered_tokens=[]\n",
    "for w in tokens:\n",
    "    if w not in stop_words:\n",
    "        filtered_tokens.append(w)\n",
    "fdist=FreqDist(filtered_tokens)\n",
    "fdist"
   ]
  },
  {
   "cell_type": "code",
   "execution_count": 20,
   "metadata": {},
   "outputs": [
    {
     "data": {
      "image/png": "[encoded data removed]",
      "text/plain": [
       "<Figure size 1080x576 with 1 Axes>"
      ]
     },
     "metadata": {
      "needs_background": "light"
     },
     "output_type": "display_data"
    }
   ],
   "source": [
    "from matplotlib import pyplot as plt\n",
    "plt.figure(figsize=(15,8))\n",
    "\n",
    "fdist.plot(20,cumulative=False)\n",
    "plt.show()"
   ]
  },
  {
   "cell_type": "code",
   "execution_count": 16,
   "metadata": {},
   "outputs": [
    {
     "name": "stdout",
     "output_type": "stream",
     "text": [
      "2 Talk to your insurance agent or broker It is critical that homeowners talk to insurance agents and brokers to understand what types of damage is covered under their policy.\n"
     ]
    },
    {
     "data": {
      "text/plain": [
       "[('2', 'CD'),\n",
       " ('Talk', 'NN'),\n",
       " ('to', 'TO'),\n",
       " ('your', 'PRP$'),\n",
       " ('insurance', 'NN'),\n",
       " ('agent', 'NN'),\n",
       " ('or', 'CC'),\n",
       " ('broker', 'NN'),\n",
       " ('It', 'PRP'),\n",
       " ('is', 'VBZ'),\n",
       " ('critical', 'JJ'),\n",
       " ('that', 'IN'),\n",
       " ('homeowners', 'NNS'),\n",
       " ('talk', 'VBP'),\n",
       " ('to', 'TO'),\n",
       " ('insurance', 'NN'),\n",
       " ('agents', 'NNS'),\n",
       " ('and', 'CC'),\n",
       " ('brokers', 'NNS'),\n",
       " ('to', 'TO'),\n",
       " ('understand', 'VB'),\n",
       " ('what', 'WP'),\n",
       " ('types', 'NNS'),\n",
       " ('of', 'IN'),\n",
       " ('damage', 'NN'),\n",
       " ('is', 'VBZ'),\n",
       " ('covered', 'VBN'),\n",
       " ('under', 'IN'),\n",
       " ('their', 'PRP$'),\n",
       " ('policy', 'NN'),\n",
       " ('.', '.')]"
      ]
     },
     "execution_count": 16,
     "metadata": {},
     "output_type": "execute_result"
    }
   ],
   "source": [
    "import nltk\n",
    "from nltk.tokenize import sent_tokenize, word_tokenize\n",
    "\n",
    "docSent = sent_tokenize(docText)\n",
    "text=word_tokenize(docSent[43])\n",
    "print(docSent[43])\n",
    "nltk.pos_tag(text)"
   ]
  },
  {
   "cell_type": "code",
   "execution_count": 17,
   "metadata": {},
   "outputs": [
    {
     "data": {
      "text/plain": [
       "[('2', 'CD'),\n",
       " ('Talk', 'NN'),\n",
       " ('to', 'TO'),\n",
       " ('your', 'PRP$'),\n",
       " ('insurance', 'NN'),\n",
       " ('agent', 'NN'),\n",
       " ('or', 'CC'),\n",
       " ('broker', 'NN'),\n",
       " ('It', 'PRP'),\n",
       " ('is', 'VBZ'),\n",
       " ('critical', 'JJ'),\n",
       " ('that', 'IN'),\n",
       " ('homeowners', 'NNS'),\n",
       " ('talk', 'VBP'),\n",
       " ('to', 'TO'),\n",
       " ('insurance', 'NN'),\n",
       " ('agents', 'NNS'),\n",
       " ('and', 'CC'),\n",
       " ('brokers', 'NNS'),\n",
       " ('to', 'TO'),\n",
       " ('understand', 'VB'),\n",
       " ('what', 'WP'),\n",
       " ('types', 'NNS'),\n",
       " ('of', 'IN'),\n",
       " ('damage', 'NN'),\n",
       " ('is', 'VBZ'),\n",
       " ('covered', 'VBN'),\n",
       " ('under', 'IN'),\n",
       " ('their', 'PRP$'),\n",
       " ('policy', 'NN'),\n",
       " ('.', '.')]"
      ]
     },
     "execution_count": 17,
     "metadata": {},
     "output_type": "execute_result"
    }
   ],
   "source": [
    "import nltk\n",
    "from nltk.tokenize import word_tokenize\n",
    "nltk.pos_tag(text)"
   ]
  },
  {
   "cell_type": "code",
   "execution_count": 18,
   "metadata": {},
   "outputs": [
    {
     "name": "stdout",
     "output_type": "stream",
     "text": [
      "[('Paying', 'VBG'), ('attention', 'NN'), ('to', 'TO'), ('local', 'JJ'), ('weather', 'NN'), ('forecasts', 'NNS'), ('that', 'WDT'), ('predict', 'VBP'), ('extreme', 'JJ'), ('cold', 'NN'), ('weather', 'NN'), ('.', '.')]\n"
     ]
    }
   ],
   "source": [
    "import nltk\n",
    "from nltk.tokenize import word_tokenize\n",
    "\n",
    "test_sentence = \"Paying attention to local weather forecasts that predict extreme cold weather.\"\n",
    "text_test = word_tokenize(test_sentence)\n",
    "extractPOS = nltk.pos_tag(text_test)\n",
    "print(extractPOS)"
   ]
  },
  {
   "cell_type": "code",
   "execution_count": 19,
   "metadata": {},
   "outputs": [
    {
     "name": "stdout",
     "output_type": "stream",
     "text": [
      "Protect your home from Snow & ice storms Designed for safer living ® is a program endorsed by Canada’s insurers to promote disaster-resilient homes.for Catastrophic Loss Reduction The Institute for Catastrophic Loss Reduction (ICLR), established in 1997, is a world-class centre for multidisciplinary disaster prevention research and communication.\n",
      "\n",
      "Contacting your municipality is one way to find a good home inspector with knowledge on your area.\n",
      "\n",
      "Protecting Your Home Full or partial roof collapse, ice dams and frozen pipes are the major threats that homeowner’s should be aware of during periods of extreme winter weather.\n",
      "\n",
      "According to most builders, a “4 on 12” roof with a slope that is greater than 10cm (vertically) in Roof collapse can be a stressful and expensive 30cm (horizontally) will experience for homeowners.. shed most snow and ice.\n",
      "\n",
      "Removing ice build-up represents a more significant challenge for homeowners.\n",
      "\n",
      "Removing Ice on Roofs.\n",
      "\n",
      "Installing heating cables can be difficult depending on the design of your roof.\n",
      "\n",
      "Look for any attic penetrations such as attic doors, plumbing stacks, electrical service penetrations, or chimneys that allow heat to escape from inside your house into the attic.\n",
      "\n",
      "Look for any form of penetration between your attic and roof, such as a vent.\n",
      "\n",
      "Increasing the insulation above your ceilings can help prevent heat from escaping into your attic or through your roof.\n",
      "\n",
      "Overhanging trees or vegetation should be cut back to prevent debris from landing on your roof and clogging these drains.\n",
      "\n",
      "Drain the pipe between the indoor valve and the outdoor faucet.Despite these precautionary steps, extreme drops in the temperature can still cause pipes to freeze.\n",
      "\n",
      "Paying attention to local weather forecasts that predict extreme cold weather.\n",
      "\n",
      "Opening your taps to allow a drip of water to keep water moving.\n",
      "\n",
      "Maintaining a consistent thermostat temperature during the day and at night.\n",
      "\n",
      "Turning down the thermostat at night, for example, can expose some pipes to extremely low temperatures.\n",
      "\n",
      "Keep the garage door closed.\n",
      "\n",
      "Ask a neighbour to check on the house at least every other day to make sure the temperature is not too low.\n",
      "\n",
      "Open all taps to clear the remaining water in the pipes.\n",
      "\n",
      "build up (the flatter the roof, the F Cut back any overhanging vegetation more at risk).\n",
      "\n",
      "Drain the air into the attic.\n",
      "\n",
      "Do you own electric heating Yes 0 cables, or a chemical de-icer?\n",
      "\n"
     ]
    }
   ],
   "source": [
    "import nltk\n",
    "from nltk.tokenize import word_tokenize\n",
    "\n",
    "for sentence in docSent:\n",
    "    text = word_tokenize(sentence)\n",
    "    extractPOS = nltk.pos_tag(text)\n",
    "    # Verb, base or gerund tense\n",
    "    if extractPOS[0][1] == 'VB' or extractPOS[0][1] == 'VBG':\n",
    "        print(sentence)\n",
    "        print()"
   ]
  },
  {
   "cell_type": "code",
   "execution_count": null,
   "metadata": {},
   "outputs": [],
   "source": []
  }
 ],
 "metadata": {
  "kernelspec": {
   "display_name": "Python 3",
   "language": "python",
   "name": "python3"
  },
  "language_info": {
   "codemirror_mode": {
    "name": "ipython",
    "version": 3
   },
   "file_extension": ".py",
   "mimetype": "text/x-python",
   "name": "python",
   "nbconvert_exporter": "python",
   "pygments_lexer": "ipython3",
   "version": "3.7.1"
  }
 },
 "nbformat": 4,
 "nbformat_minor": 2
}
