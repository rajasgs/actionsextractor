{
 "cells": [
  {
   "cell_type": "markdown",
   "metadata": {},
   "source": [
    "### Full solution, receiving text blocks as array, outputting JSON"
   ]
  },
  {
   "cell_type": "code",
   "execution_count": 55,
   "metadata": {},
   "outputs": [],
   "source": [
    "import pdftotext\n",
    "import os\n",
    "import re\n",
    "\n",
    "# Example of converting a PDF file into a JSON object with page text array\n",
    "pdf_docs_path = os.path.join(\"PDF\")\n",
    "one_pdf_path = os.path.join(pdf_docs_path,\"Protect_Your_Home_From_Flooding_Brochure.pdf\")\n",
    "\n",
    "with open(one_pdf_path, \"rb\") as f:\n",
    "    pdf = pdftotext.PDF(f)\n",
    "    \n",
    "textArray = []\n",
    "for page in pdf:\n",
    "    docText = re.sub(r\"[^a-zA-Z0-9:.,!?%$@]+\", ' ', page).strip()\n",
    "    textArray.append(docText)"
   ]
  },
  {
   "cell_type": "markdown",
   "metadata": {},
   "source": [
    "Now textArray is the object to be posted to a single call that returns a json object with a list item for each text instance, including disaster type and actions."
   ]
  },
  {
   "cell_type": "markdown",
   "metadata": {},
   "source": [
    "### All NLP and other dependencies for Lambda Functions"
   ]
  },
  {
   "cell_type": "code",
   "execution_count": 69,
   "metadata": {},
   "outputs": [],
   "source": [
    "import spacy\n",
    "from spacy.lang.en.stop_words import STOP_WORDS\n",
    "from collections import Counter\n",
    "import string\n",
    "import json\n",
    "nlp = spacy.load(\"en_core_web_sm\")"
   ]
  },
  {
   "cell_type": "markdown",
   "metadata": {},
   "source": [
    "### Action extraction function"
   ]
  },
  {
   "cell_type": "code",
   "execution_count": 57,
   "metadata": {},
   "outputs": [],
   "source": [
    "# Defining the imperative sentence detector for action extraction\n",
    "def impSentenceExtractor(someText):\n",
    "    \n",
    "    doc = nlp(someText)\n",
    "    impSentList=[]\n",
    "\n",
    "    # Extract sentences from block of text\n",
    "    for sentence in doc.sents:\n",
    "        if sentence[0].pos_=='VERB' and (sentence[0].tag_==\"VB\" or sentence[0].tag_==\"VBG\") and len(sentence) > 2:\n",
    "            impSentList.append(sentence.text)\n",
    "    return impSentList"
   ]
  },
  {
   "cell_type": "markdown",
   "metadata": {},
   "source": [
    "### Frequent words extractor function"
   ]
  },
  {
   "cell_type": "code",
   "execution_count": 58,
   "metadata": {},
   "outputs": [],
   "source": [
    "# Defining a function for frequent word extraction, returning a simple string:\n",
    "def frequentClimateWordsExtractor(text):\n",
    "\n",
    "    # Dictionary of relevant words\n",
    "    dictionary = [\"snow\",\"change\",\"climate\",\"heatwave\",\"adaptation\",\"tornado\",\"water\",\"icestorm\",\"risk\",\"impact\",\"level\",\"community\",\"land\",\"management\",\"planning\",\"development\",\"http\",\"plan\",\"infrastructure\",\"sea\",\"event\",\"action\",\"vulnerability\",\"flood\",\"assessment\",\"storm\",\"temperature\", \"low\",\"rise\",\"resource\",\"weather\",\"strategy\",\"damage\",\"effect\",\"precipitation\",\"hazard\",\"ice\",\"protection\",\"home\",\"flooding\",\"erosion\",\"environment\",\"emission\",\"al\",\"winter\",\"heat\",\"forest\",\"wind\",\"mitigation\",\"emergency\",\"coast\",\"shoreline\",\"greenhouse\",\"elevation\",\"carbon\",\"wave\",\"dike\",\"wetland\",\"disaster\",\"conservation\",\"reduction\",\"fire\",\"rain\",\"drainage\",\"ground\",\"power\",\"stormwater\",\"roof\",\"rainfall\",\"extreme\",\"wildfire\",\"reference\",\"vegetation\",\"threat\",\"drought\",\"disease\",\"coastline\",\"sewer\",\"nature\",\"neutral\",\"neutrality\"]\n",
    "\n",
    "    # Loads text with linguistic annotations from Spacy\n",
    "    my_doc = nlp(text)\n",
    "\n",
    "    filteredDoc = []\n",
    "    filteredList = []\n",
    "    \n",
    "    # Returns a list with relevant words filtered by the dictionary\n",
    "    for sentence in my_doc.sents:\n",
    "        for word in sentence:\n",
    "            if not(word.is_stop) and (word.pos_=='NOUN' or word.pos_=='PROPN'):\n",
    "                filteredDoc.append(word.text.lower())\n",
    "\n",
    "    nounsFreqDistribution = Counter(filteredDoc)\n",
    "    \n",
    "    listOfWords=\"\"\n",
    "    for word in nounsFreqDistribution.most_common(300):\n",
    "        if word[0] in dictionary:\n",
    "            listOfWords = listOfWords + word[0] + \", \"\n",
    "            filteredList.append(word[0])\n",
    "    return listOfWords, filteredList"
   ]
  },
  {
   "cell_type": "markdown",
   "metadata": {},
   "source": [
    "### Disaster Classifier (rules-based)"
   ]
  },
  {
   "cell_type": "code",
   "execution_count": 65,
   "metadata": {},
   "outputs": [],
   "source": [
    "# Trying a simple rule-based approach to disaster classification\n",
    "def disasterType(key_arr):\n",
    "    \n",
    "    # Undefined to start with\n",
    "    # disaster_class = \"Undefined\"\n",
    "    numDetected = 0\n",
    "    disaster_class = []\n",
    "    \n",
    "    if \"carbon\" in key_arr and (\"neutral\" in key_arr or \"neutrality\" in key_arr):\n",
    "        disaster_class.append(\"Carbon Neutrality\")\n",
    "        numDetected+=1\n",
    "        \n",
    "    if \"adaptation\" in key_arr and (\"change\" in key_arr or \"plan\" in key_arr):\n",
    "        disaster_class.append(\"Climate Change Adaptation\")\n",
    "        numDetected+=1\n",
    "        \n",
    "    if \"drought\" in key_arr:\n",
    "        disaster_class.append(\"Drought\")\n",
    "        numDetected+=1\n",
    "        \n",
    "    if \"flood\" in key_arr or \"flooding\" in key_arr or \"rainfall\" in key_arr or \"stormwater\" in key_arr or (\"sea\" in key_arr and \"level\" in key_arr and \"rise\" in key_arr):\n",
    "        disaster_class.append(\"Flooding\")\n",
    "        numDetected+=1\n",
    "        \n",
    "    if (\"heat\" in key_arr and \"extreme\" in key_arr) or \"heatwave\" in key_arr:\n",
    "        disaster_class.append(\"Heatwave\")\n",
    "        numDetected+=1\n",
    "        \n",
    "    if \"mitigation\" in key_arr:\n",
    "        disaster_class.append(\"Mitigation\")\n",
    "        numDetected+=1\n",
    "        \n",
    "    if \"wind\" in key_arr or \"tornado\" in key_arr:\n",
    "        disaster_class.append(\"Severe Wind\")\n",
    "        numDetected+=1\n",
    "        \n",
    "    if \"snow\" in key_arr or \"snowstorm\" in key_arr:\n",
    "        disaster_class.append(\"Snowstorm\")\n",
    "        numDetected+=1\n",
    "\n",
    "    if \"temperature\" in key_arr and \"low\" in key_arr:\n",
    "        disaster_class.append(\"Low Temperatures\")\n",
    "        numDetected+=1\n",
    "\n",
    "\n",
    "    if \"fire\" in key_arr or \"wildfire\" in key_arr:\n",
    "        disaster_class.append(\"Wildfire\")\n",
    "        numDetected+=1\n",
    "        \n",
    "    if numDetected==0:\n",
    "        disaster_class.append(\"Undefined\")\n",
    "        \n",
    "    if \"http\" in key_arr or \"al\" in key_arr or \"reference\" in key_arr:\n",
    "        disaster_class = [\"References\"]\n",
    "    \n",
    "    return disaster_class"
   ]
  },
  {
   "cell_type": "markdown",
   "metadata": {},
   "source": [
    "### Core function execution, processing textArray"
   ]
  },
  {
   "cell_type": "code",
   "execution_count": 66,
   "metadata": {},
   "outputs": [],
   "source": [
    "# Given textArray, loop through its text items\n",
    "def mainProcessor(arrayOfText):\n",
    "    returnBody=[]\n",
    "\n",
    "    i=0\n",
    "    for textBlock in arrayOfText:\n",
    "        pageItem = {}\n",
    "        i+=1\n",
    "        impSents = impSentenceExtractor(textBlock)\n",
    "        keywords, wordList = frequentClimateWordsExtractor(textBlock)\n",
    "        disasterClass = disasterType(wordList)\n",
    "        pageItem['block']=i\n",
    "        pageItem['class']=disasterClass\n",
    "        pageItem['actions']=impSents\n",
    "        if len(impSents)>0:\n",
    "            returnBody.append(pageItem)\n",
    "    \n",
    "    return returnBody"
   ]
  },
  {
   "cell_type": "code",
   "execution_count": 68,
   "metadata": {},
   "outputs": [
    {
     "data": {
      "text/plain": [
       "[{'block': 1,\n",
       "  'class': ['Undefined'],\n",
       "  'actions': ['Protect Your Home from Flooding LOW COST PROJECTS YOU CAN DO YOURSELF']},\n",
       " {'block': 2,\n",
       "  'class': ['Flooding', 'Mitigation'],\n",
       "  'actions': ['Know Your Risk.',\n",
       "   'Learn more details about your home s level of food risk, including the type of food zone it is in',\n",
       "   'Talk to them, your neighbors, and others about any past food events and how high the water has risen in the past at or near your home.',\n",
       "   'Insure Your Property.',\n",
       "   'Reduce Your Risk.',\n",
       "   'Decide how to prepare your family and protect your home from fooding.',\n",
       "   'Consider which of the methods included in this guide are most appropriate and practical, based on your home s food risk, and create a plan to mitigate the risk to your property.']},\n",
       " {'block': 3,\n",
       "  'class': ['Flooding', 'Mitigation'],\n",
       "  'actions': ['Depending on the project, you may need to consult local architects, engineers, contractors, landscapers, or other experts in design and construction.',\n",
       "   'Consulting adjacent property owners is very important when any actions on your property, such as extending downspouts or regrading areas between homes, could affect their property.',\n",
       "   'Maintain proper water runoff and drainage.',\n",
       "   'conditioning condensers, heat pumps, water meters and other service equipment onto pedestals or platforms that are at least 1 foot above Improve lot grading.',\n",
       "   'Determine how water fows or accumulates the potential food elevation.',\n",
       "   'prevent signifcant damage and disruption following a food event.',\n",
       "   'Retaining and creating people, property, and the environment.',\n",
       "   'Consider options such as rain gardens, food elevation as adopted by the local community.']},\n",
       " {'block': 4,\n",
       "  'class': ['Flooding'],\n",
       "  'actions': ['Move important documents and other valuable or sentimental items to a safer location, well above the potential food elevation and or inside watertight containers.',\n",
       "   'Seal your foundation and basement walls.',\n",
       "   'Make sure any foor drains are clear of obstructions.',\n",
       "   'Install food vents.',\n",
       "   'Install a sump pump.',\n",
       "   'Prevent sewer backups.',\n",
       "   'Install drain plugs for all basement foor drains to prevent sewer backups.']},\n",
       " {'block': 5,\n",
       "  'class': ['Flooding', 'Snowstorm'],\n",
       "  'actions': ['Use food resistant building materials.',\n",
       "   'Use moveable rugs instead expected food event that will prevent or reduce food damage to of ftted carpets.',\n",
       "   'decay resistant wood.',\n",
       "   'Shut off electricity at the breaker panel.',\n",
       "   'Replace wooden doors and window frames with metal or other food resistant options.',\n",
       "   'Safeguard important paperwork and move furniture, rugs, electronics, and other valuable belongings to upper foors, or at least off the foor of Raise electrical system components.',\n",
       "   'Increase the height of electric the ground level.',\n",
       "   'Move the main parts drainage ditches or storm drains clear snow and ice away from of your heating, ventilation, and air conditioning HVAC systems to foundations.',\n",
       "   'Consider raising other major appliances, Deploy temporary food barriers, such as portable food gates or shields, such as washers, dryers, and hot water heaters, above the ground sandbags, infatable foodwalls, and food skirts.',\n",
       "   'Install a food alert system.']},\n",
       " {'block': 6,\n",
       "  'class': ['Flooding', 'Mitigation'],\n",
       "  'actions': ['Contact your local community offcials.',\n",
       "   'Start with the local planning and zoning offce or building department, and ask to speak with the designated foodplain administrator.',\n",
       "   'Visit the following websites:',\n",
       "   'Reducing Flood Risk to Residential Buildings That Cannot Be Elevated.',\n",
       "   'Protect Your Property from Flooding.']}]"
      ]
     },
     "execution_count": 68,
     "metadata": {},
     "output_type": "execute_result"
    }
   ],
   "source": [
    "mainProcessor(textArray)"
   ]
  },
  {
   "cell_type": "code",
   "execution_count": 53,
   "metadata": {},
   "outputs": [
    {
     "data": {
      "text/plain": [
       "['Protect Your Home from Flooding LOW COST PROJECTS YOU CAN DO YOURSELF',\n",
       " 'FLOODING IS THE MOST COMMON AND COSTLY DISASTER IN THE UNITED STATES AND CAN HAPPEN ANYWHERE. However, there are many ways to reduce your home s risk of fooding, and not all of them are diffcult or expensive. This guide briefy describes some of the smaller, lower cost actions you can take yourself or with minor assistance from others. It also suggests places you can go to fnd more information about food mitigation techniques, including some of these. You have many food mitigation options as a homeowner. As you begin to think about which might be the best for you and your home, consider following these three key steps: 1. Know Your Risk. Anywhere it can rain, it can food so we all live in a food zone, and we all live with the risk of food damage to our property. Learn more details about your home s level of food risk, including the type of food zone it is in and, if available, the potential food elevation referred to as the base food elevation on a food map . A good place to start is FEMA s online Flood Map Service Center at www.msc.fema.gov portal . You can also visit the offcials in your community who maintain the FEMA food maps and elevation certifcates they may work in the local planning and zoning offce or in the building department. Talk to them, your neighbors, and others about any past food events and how high the water has risen in the past at or near your home. 2. Insure Your Property. As a homeowner, it s important to insure your home and personal belongings. Even if your home is in a low or moderate risk food zone, purchasing a food insurance policy is highly recommended. It provides you with fnancial protection from a food event. Flood damage isn t covered by standard homeowners insurance policies, and just a few inches of foodwater can end up costing thousands of dollars in repairs. More than 25 percent of food insurance claims come from properties that are not in an identifed high risk zone, but most homeowners in these areas are eligible for coverage at a preferred rate. Preferred Risk Policy premiums are the lowest premiums available, offering building and contents coverage for one low price. 3. Reduce Your Risk. Decide how to prepare your family and protect your home from fooding. Consider which of the methods included in this guide are most appropriate and practical, based on your home s food risk, and create a plan to mitigate the risk to your property. Even after a mitigation project, some risk will remain, so learn about more actions to prepare and protect your family, home, and belongings at www.ready.gov make a plan.',\n",
       " 'Please be aware that food mitigation measures need to be tailored to the property in question. Depending on the project, you may need to consult local architects, engineers, contractors, landscapers, or other experts in design and construction. Also, changes to properties and buildings often require permits or other regulatory approvals. Your local planning and zoning offce or building department is a good place to start for advice on how to best proceed. Lastly, please remember to be kind to your neighbors! Consulting adjacent property owners is very important when any actions on your property, such as extending downspouts or regrading areas between homes, could affect their property. OUTSIDE THE HOME For the exterior areas of your property, consider taking the Install a rain barrel. A rain barrel is an alternative method for following actions: dealing with rainwater. Rain barrels are typically connected to gutter downspouts and collect the runoff from roofs. You can use this stored Maintain proper water runoff and drainage. Routinely clean and water for non potable uses such as watering the lawn and gardens or maintain gutters, downspouts, and splashpads so that rainwater from your washing your car. roof fows easily away from your home. Also, make sure that any nearby drainage ditches or storm drains are clear of debris and functioning Elevate utilities and service equipment. Raise and anchor air properly. conditioning condensers, heat pumps, water meters and other service equipment onto pedestals or platforms that are at least 1 foot above Improve lot grading. Determine how water fows or accumulates the potential food elevation. For identifed high risk zones this means around your home to identify potential trouble spots often easy to see going to or above the regulatory food elevation for the property as during an average rainstorm . Stormwater should always drain away from adopted by the local community. This inexpensive action can help the building if necessary, change your landscaping to improve runoff. prevent signifcant damage and disruption following a food event. This may include building up any sunken areas around the foundation, digging small depressions to properly channel water, and otherwise Anchor outdoor fuel tanks. Attach outdoor fuel tanks to a large improving the yard so that it slopes away from your home. concrete slab that weighs enough to resist the force of foodwaters, or install inexpensive ground anchors that are connected across Reduce impervious surfaces around your home. Water runs off the top of the tank with metal straps. Unanchored fuel tanks can be concrete and asphalt almost immediately and can exceed the capacity easily moved and ruptured by foodwaters and pose serious threats to of storm sewers quickly during heavy rains. Retaining and creating people, property, and the environment. If located in an identifed high natural green space around your home can help reduce sewer overfows risk zone, fuel tanks should also be elevated to or above the regulatory by reducing stormwater runoff. Consider options such as rain gardens, food elevation as adopted by the local community. If not feasible then vegetated swales, or pervious pavements, which allow more water to be all flling and ventilation tubes should be elevated so that foodwaters absorbed by the ground. cannot enter the tank.',\n",
       " 'INSIDE THE HOME For interior areas below the potential food elevation, consider making the following alterations: Protect your valuable possessions. Move important documents and other valuable or sentimental items to a safer location, well above the potential food elevation and or inside watertight containers. Seal your foundation and basement walls. Close any foundation cracks with mortar and masonry caulk or hydraulic cement, which expands and flls gaps completely. Seal walls in your basements with waterproofng compounds to avoid seepage. Make sure any foor drains are clear of obstructions. Install food vents. Flood vents are small permanent openings that allow foodwater to fow freely through an enclosure such as a crawlspace or garage. Properly positioned and installed food vents protect homes during foods by preventing water pressure buildup that can destroy walls and foundations. Flood openings may be required for lower enclosures of homes being built in high risk food zones, but they can also be installed in existing homes. Once installed, make sure your food vents are kept free of debris and will allow the free fow of foodwater. Install a sump pump. Sump pumps, which pump groundwater away from your home, can be an excellent defense against basement seepage and fooding. They draw in the groundwater from around the house and direct it away from the structure through drainage pipes. Be sure to choose a device with battery operated backup, in case of electrical power failure. Prevent sewer backups. Install drain plugs for all basement foor drains to prevent sewer backups. Another recommended option, regardless of the potential food elevation, is to install sewer backfow valves for all pipes entering the building. These devices, which allow water to fow only one direction, prevent foodwater and wastewater from backing up into your home through toilets, sinks, and other drains. They are available in a variety of designs that range from simple to complex, but they should be installed by a qualifed, licensed plumber.',\n",
       " 'Use food resistant building materials. FLOOD PREPAREDNESS Replace wooden foorboards and carpets with ceramic tile, vinyl, You may be able to take additional actions immediately before an rubber, or other food resistant materials. Use moveable rugs instead expected food event that will prevent or reduce food damage to of ftted carpets. your home: Replace internal walls and ceilings with food resistant material such Activate food protection devices turn on sump pumps, close backfow as lime plaster, cement board, concrete, or pressure treated and valves, etc. . decay resistant wood. Shut off electricity at the breaker panel. Replace wooden doors and window frames with metal or other food resistant options. Safeguard important paperwork and move furniture, rugs, electronics, and other valuable belongings to upper foors, or at least off the foor of Raise electrical system components. Increase the height of electric the ground level. service panels fuse and circuit breaker boxes and all outlets, switches, and wiring to at least 1 foot above the potential food elevation. These Elevate major appliances onto concrete blocks. modifcations should be made by a licensed electrician. Clean gutters, downspouts, and splash pads, along with any nearby Protect utilities and service equipment. Move the main parts drainage ditches or storm drains clear snow and ice away from of your heating, ventilation, and air conditioning HVAC systems to foundations. a higher foor or the attic. Consider raising other major appliances, Deploy temporary food barriers, such as portable food gates or shields, such as washers, dryers, and hot water heaters, above the ground sandbags, infatable foodwalls, and food skirts. foor. If relocation or elevation is not possible, you can protect service equipment in place using low foodwalls and shields. Alternative options such as replacing traditional hot water heaters with tankless units should also be considered. Anchor indoor fuel tanks. Anchor fuel tanks by attaching them to a large concrete slab that weighs enough to resist the force of foodwaters. Install a food alert system. A variety of food sensors and other early warning devices can alert you to the risk of imminent fooding so that you can take preventative or protective actions before extensive damage occurs see Flood Preparedness .',\n",
       " 'WANT TO LEARN MORE? Contact your local community offcials. Start with the local planning and zoning offce or building department, and ask to speak with the designated foodplain administrator. Consult local contractors or design professionals with food mitigation expertise. Visit the following websites: FEMA, Protect Your Property www.fema.gov protect your property FEMA Region III, Mitigation Division www.fema.gov region iii mitigation FloodSmart www.foodsmart.gov Read more detailed publications available from FEMA: Homeowner s Guide to Retroftting www.fema.gov media library assets documents 480 Reducing Flood Risk to Residential Buildings That Cannot Be Elevated. www.fema.gov media library assets documents 109669 Protecting Your Home and Property from Flood Damage. www.fema.gov media library assets documents 21471 Protecting Building Utility Systems from Flood Damage. www.fema.gov media library assets documents 3729 Protect Your Property from Flooding. www.fema.gov media library assets documents 13261']"
      ]
     },
     "execution_count": 53,
     "metadata": {},
     "output_type": "execute_result"
    }
   ],
   "source": [
    "textArray"
   ]
  }
 ],
 "metadata": {
  "kernelspec": {
   "display_name": "Python 3",
   "language": "python",
   "name": "python3"
  },
  "language_info": {
   "codemirror_mode": {
    "name": "ipython",
    "version": 3
   },
   "file_extension": ".py",
   "mimetype": "text/x-python",
   "name": "python",
   "nbconvert_exporter": "python",
   "pygments_lexer": "ipython3",
   "version": "3.7.1"
  }
 },
 "nbformat": 4,
 "nbformat_minor": 2
}
